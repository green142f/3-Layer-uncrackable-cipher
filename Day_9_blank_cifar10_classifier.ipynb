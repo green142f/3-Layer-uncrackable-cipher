{
  "nbformat": 4,
  "nbformat_minor": 0,
  "metadata": {
    "colab": {
      "name": "Day_9_blank_cifar10_classifier.ipynb",
      "provenance": [],
      "collapsed_sections": [],
      "include_colab_link": true
    },
    "kernelspec": {
      "name": "python3",
      "display_name": "Python 3"
    },
    "accelerator": "GPU"
  },
  "cells": [
    {
      "cell_type": "markdown",
      "metadata": {
        "id": "view-in-github",
        "colab_type": "text"
      },
      "source": [
        "<a href=\"https://colab.research.google.com/github/green142f/3-Layer-uncrackable-cipher/blob/master/Day_9_blank_cifar10_classifier.ipynb\" target=\"_parent\"><img src=\"https://colab.research.google.com/assets/colab-badge.svg\" alt=\"Open In Colab\"/></a>"
      ]
    },
    {
      "cell_type": "code",
      "metadata": {
        "id": "mtxSzAevjV6L",
        "colab_type": "code",
        "colab": {}
      },
      "source": [
        "import numpy as np\n",
        "import matplotlib\n",
        "import matplotlib.pyplot as plt"
      ],
      "execution_count": null,
      "outputs": []
    },
    {
      "cell_type": "code",
      "metadata": {
        "id": "yvan0JJQjsod",
        "colab_type": "code",
        "colab": {}
      },
      "source": [
        "import torch\n",
        "import torch.nn as nn\n",
        "import torch.nn.functional as F\n",
        "import torch.optim as optim\n",
        "from torch.utils.data import Dataset, DataLoader\n",
        "import torchvision\n",
        "from torchvision import datasets, transforms, utils"
      ],
      "execution_count": null,
      "outputs": []
    },
    {
      "cell_type": "code",
      "metadata": {
        "id": "I55rps6gBHut",
        "colab_type": "code",
        "colab": {}
      },
      "source": [
        "import torchvision.models as models\n",
        "resnet18 = models.resnet18(pretrained=True)\n",
        "alexnet = models.alexnet(pretrained=True)\n",
        "squeezenet = models.squeezenet1_0(pretrained=True)\n",
        "vgg16 = models.vgg16(pretrained=True)\n",
        "densenet = models.densenet161(pretrained=True)\n",
        "inception = models.inception_v3(pretrained=True)\n",
        "googlenet = models.googlenet(pretrained=True)\n",
        "shufflenet = models.shufflenet_v2_x1_0(pretrained=True)\n",
        "mobilenet = models.mobilenet_v2(pretrained=True)\n",
        "resnext50_32x4d = models.resnext50_32x4d(pretrained=True)\n",
        "wide_resnet50_2 = models.wide_resnet50_2(pretrained=True)\n",
        "mnasnet = models.mnasnet1_0(pretrained=True)"
      ],
      "execution_count": null,
      "outputs": []
    },
    {
      "cell_type": "markdown",
      "metadata": {
        "id": "bnklXCDz4_ZL",
        "colab_type": "text"
      },
      "source": [
        "# Do not forget to enable GPUs!"
      ]
    },
    {
      "cell_type": "code",
      "metadata": {
        "id": "9EzLxKW5jvVF",
        "colab_type": "code",
        "colab": {}
      },
      "source": [
        "def use_gpu():\n",
        "    torch.set_default_tensor_type(torch.cuda.FloatTensor if torch.cuda.is_available() \n",
        "                                                         else torch.FloatTensor)\n",
        "use_gpu()"
      ],
      "execution_count": null,
      "outputs": []
    },
    {
      "cell_type": "markdown",
      "metadata": {
        "id": "6gTN36uu4ygv",
        "colab_type": "text"
      },
      "source": [
        "# You might want to use custom transforms"
      ]
    },
    {
      "cell_type": "code",
      "metadata": {
        "id": "c_SGBse74pQg",
        "colab_type": "code",
        "colab": {}
      },
      "source": [
        "transform = transforms.Compose([transforms.ToTensor()])"
      ],
      "execution_count": null,
      "outputs": []
    },
    {
      "cell_type": "markdown",
      "metadata": {
        "id": "61eQsjNK46aR",
        "colab_type": "text"
      },
      "source": [
        "# Download the dataset"
      ]
    },
    {
      "cell_type": "code",
      "metadata": {
        "id": "OULhtghFjmvp",
        "colab_type": "code",
        "colab": {
          "base_uri": "https://localhost:8080/",
          "height": 51
        },
        "outputId": "c52c69b7-5565-41aa-ed33-2e81e88561a0"
      },
      "source": [
        "trainset = torchvision.datasets.CIFAR10(root='./data', train=True,\n",
        "                                        download=True, transform=transform)\n",
        "\n",
        "testset = torchvision.datasets.CIFAR10(root='./data', train=False,\n",
        "                                       download=True, transform=transform)\n",
        "\n",
        "classes = ('plane', 'car', 'bird', 'cat',\n",
        "           'deer', 'dog', 'frog', 'horse', 'ship', 'truck')"
      ],
      "execution_count": null,
      "outputs": [
        {
          "output_type": "stream",
          "text": [
            "Files already downloaded and verified\n",
            "Files already downloaded and verified\n"
          ],
          "name": "stdout"
        }
      ]
    },
    {
      "cell_type": "code",
      "metadata": {
        "id": "0S5feZ6C-CoJ",
        "colab_type": "code",
        "colab": {
          "base_uri": "https://localhost:8080/",
          "height": 51
        },
        "outputId": "509823a8-012a-4361-bbb6-14457bbe95cd"
      },
      "source": [
        "print(len(trainset))\n",
        "print(len(testset))"
      ],
      "execution_count": null,
      "outputs": [
        {
          "output_type": "stream",
          "text": [
            "50000\n",
            "10000\n"
          ],
          "name": "stdout"
        }
      ]
    },
    {
      "cell_type": "code",
      "metadata": {
        "id": "afkERSjv1ZXk",
        "colab_type": "code",
        "colab": {
          "base_uri": "https://localhost:8080/",
          "height": 697
        },
        "outputId": "947298b1-f9f0-4974-913c-59eef738b276"
      },
      "source": [
        "def train(model, train_loader, optimizer, epoch):\n",
        "    model.train()\n",
        "    for batch_idx, (data, target) in enumerate(train_loader):\n",
        "        optimizer.zero_grad()\n",
        "        output = model(data)\n",
        "        loss = criterion(output, target)\n",
        "        loss.backward()\n",
        "        optimizer.step()\n",
        "    print('Train Epoch: {}, Loss: {:.3f}'.format(epoch, loss.item()))\n",
        "\n",
        "\n",
        "def test(model, test_loader):\n",
        "    model.eval()\n",
        "    test_loss = 0\n",
        "    correct = 0\n",
        "    total = 0\n",
        "    with torch.no_grad():\n",
        "        for data, target in test_loader:\n",
        "            output = model(data)\n",
        "            _, pred = output.max(1)\n",
        "            test_loss += criterion(output, target).item()\n",
        "\n",
        "            correct += pred.eq(target).sum().item()\n",
        "            total += target.size(0)\n",
        "    test_loss /= len(test_loader.dataset)\n",
        "\n",
        "    print('Average loss: {:.3f}, Test Acc: {:.3f} ({}/{})'.format(test_loss, 100.*correct/total, correct, total))\n",
        "    \n",
        "    return test_loss\n",
        "\n",
        "\n",
        "class CNN(nn.Module):\n",
        "    def __init__(self):\n",
        "        super(CNN, self).__init__()\n",
        "        self.conv_layer = nn.Sequential(\n",
        "            # Conv Layer block 1\n",
        "            nn.Conv2d(in_channels=3, out_channels=32, kernel_size=(4,4), padding=1),\n",
        "            nn.BatchNorm2d(32),\n",
        "            nn.ReLU(),\n",
        "            nn.Conv2d(in_channels=32, out_channels=64, kernel_size=(4,4), padding=1),\n",
        "            nn.ReLU(),\n",
        "            nn.MaxPool2d(kernel_size=2, stride=2),\n",
        "\n",
        "            # Conv Layer block 2\n",
        "            nn.Conv2d(in_channels=64, out_channels=128, kernel_size=(4,4), padding=1),\n",
        "            nn.BatchNorm2d(128),\n",
        "            nn.ReLU(),\n",
        "            nn.Conv2d(in_channels=128, out_channels=128, kernel_size=(4,4), padding=1),\n",
        "            nn.ReLU(),\n",
        "            nn.MaxPool2d(kernel_size=2, stride=2),\n",
        "            nn.Dropout2d(p=0.05),\n",
        "\n",
        "            # Conv Layer block 3\n",
        "            nn.Conv2d(in_channels=128, out_channels=256, kernel_size=(4,4), padding=1),\n",
        "            nn.BatchNorm2d(256),\n",
        "            nn.ReLU(),\n",
        "            nn.Conv2d(in_channels=256, out_channels=256, kernel_size=(4,4), padding=1),\n",
        "            nn.ReLU(),\n",
        "            nn.MaxPool2d(kernel_size=2, stride=2),\n",
        "        )\n",
        "\n",
        "        self.fc_layer = nn.Sequential(\n",
        "            nn.Dropout(p=0.1),\n",
        "            nn.Linear(1024, 512),\n",
        "            nn.ReLU(),\n",
        "            nn.Linear(512, 256),\n",
        "            nn.ReLU(),\n",
        "            nn.Dropout(p=0.1),\n",
        "            nn.Linear(256, 10)\n",
        "        )\n",
        "\n",
        "    def forward(self, x):\n",
        "        if torch.cuda.is_available():\n",
        "           x = x.to(device=\"cuda\")\n",
        "        # conv layers\n",
        "        x = self.conv_layer(x)\n",
        "\n",
        "        # flatten\n",
        "        x = x.view(x.size(0), -1)\n",
        "\n",
        "        # fc layer\n",
        "        x = self.fc_layer(x)\n",
        "\n",
        "        return x\n",
        "\n",
        "batch_size = 100\n",
        "test_batch_size = 50\n",
        "epochs = 20\n",
        "lr = 1e-3\n",
        "criterion = nn.CrossEntropyLoss()\n",
        "\n",
        "#training\n",
        "model = CNN()\n",
        "optimizer = optim.Adam(model.parameters(), lr=lr)\n",
        "train_loader = torch.utils.data.DataLoader(trainset, batch_size=batch_size, shuffle=True)\n",
        "val_loader = torch.utils.data.DataLoader(testset, batch_size=test_batch_size, shuffle=False)\n",
        "losses = []\n",
        "for epoch in range(1, epochs + 1):\n",
        "    train(model, train_loader, optimizer, epoch)\n",
        "    losses.append(test(model, val_loader))\n"
      ],
      "execution_count": null,
      "outputs": [
        {
          "output_type": "stream",
          "text": [
            "Train Epoch: 1, Loss: 1.095\n",
            "Average loss: 0.023, Test Acc: 58.870 (5887/10000)\n",
            "Train Epoch: 2, Loss: 0.952\n",
            "Average loss: 0.020, Test Acc: 65.550 (6555/10000)\n",
            "Train Epoch: 3, Loss: 0.592\n",
            "Average loss: 0.015, Test Acc: 74.840 (7484/10000)\n",
            "Train Epoch: 4, Loss: 0.593\n",
            "Average loss: 0.015, Test Acc: 74.580 (7458/10000)\n",
            "Train Epoch: 5, Loss: 0.434\n",
            "Average loss: 0.015, Test Acc: 76.730 (7673/10000)\n",
            "Train Epoch: 6, Loss: 0.377\n",
            "Average loss: 0.013, Test Acc: 79.650 (7965/10000)\n",
            "Train Epoch: 7, Loss: 0.395\n",
            "Average loss: 0.014, Test Acc: 78.300 (7830/10000)\n",
            "Train Epoch: 8, Loss: 0.290\n",
            "Average loss: 0.012, Test Acc: 81.880 (8188/10000)\n",
            "Train Epoch: 9, Loss: 0.340\n",
            "Average loss: 0.012, Test Acc: 82.290 (8229/10000)\n",
            "Train Epoch: 10, Loss: 0.360\n",
            "Average loss: 0.013, Test Acc: 81.270 (8127/10000)\n",
            "Train Epoch: 11, Loss: 0.221\n",
            "Average loss: 0.014, Test Acc: 81.750 (8175/10000)\n",
            "Train Epoch: 12, Loss: 0.159\n",
            "Average loss: 0.013, Test Acc: 82.680 (8268/10000)\n",
            "Train Epoch: 13, Loss: 0.244\n",
            "Average loss: 0.014, Test Acc: 82.050 (8205/10000)\n",
            "Train Epoch: 14, Loss: 0.177\n",
            "Average loss: 0.016, Test Acc: 81.130 (8113/10000)\n",
            "Train Epoch: 15, Loss: 0.094\n",
            "Average loss: 0.014, Test Acc: 83.280 (8328/10000)\n",
            "Train Epoch: 16, Loss: 0.129\n",
            "Average loss: 0.017, Test Acc: 80.910 (8091/10000)\n",
            "Train Epoch: 17, Loss: 0.107\n",
            "Average loss: 0.015, Test Acc: 82.740 (8274/10000)\n",
            "Train Epoch: 18, Loss: 0.162\n",
            "Average loss: 0.016, Test Acc: 83.040 (8304/10000)\n",
            "Train Epoch: 19, Loss: 0.108\n",
            "Average loss: 0.016, Test Acc: 83.000 (8300/10000)\n",
            "Train Epoch: 20, Loss: 0.153\n",
            "Average loss: 0.017, Test Acc: 82.990 (8299/10000)\n"
          ],
          "name": "stdout"
        }
      ]
    },
    {
      "cell_type": "code",
      "metadata": {
        "id": "36wX-yTLdF4G",
        "colab_type": "code",
        "colab": {}
      },
      "source": [
        ""
      ],
      "execution_count": null,
      "outputs": []
    }
  ]
}